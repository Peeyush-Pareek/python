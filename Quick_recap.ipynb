{
  "nbformat": 4,
  "nbformat_minor": 0,
  "metadata": {
    "colab": {
      "provenance": [],
      "authorship_tag": "ABX9TyNIxkAflC4+kled3wbQaXhs",
      "include_colab_link": true
    },
    "kernelspec": {
      "name": "python3",
      "display_name": "Python 3"
    },
    "language_info": {
      "name": "python"
    }
  },
  "cells": [
    {
      "cell_type": "markdown",
      "metadata": {
        "id": "view-in-github",
        "colab_type": "text"
      },
      "source": [
        "<a href=\"https://colab.research.google.com/github/Peeyush-Pareek/python/blob/main/Quick_recap.ipynb\" target=\"_parent\"><img src=\"https://colab.research.google.com/assets/colab-badge.svg\" alt=\"Open In Colab\"/></a>"
      ]
    },
    {
      "cell_type": "code",
      "execution_count": 7,
      "metadata": {
        "colab": {
          "base_uri": "https://localhost:8080/"
        },
        "id": "QJ3SCnDvd66b",
        "outputId": "9b24a394-c115-4660-93e7-4e0cf66f2d9a"
      },
      "outputs": [
        {
          "output_type": "stream",
          "name": "stdout",
          "text": [
            "Hello, Alice! You are an adult.\n",
            "Enter your name: peeyush pareek\n",
            "Enter your age: 30\n",
            "Enter two numbers separated by space: 24 12\n",
            "Sum of 24 and 12 is: 36\n",
            "Product of 24 and 12 is: 288\n",
            "Difference between 24 and 12 is: 12\n",
            "Division of 24 by 12 is: 2.00\n",
            "Numbers from 1 to 3 using a for loop:\n",
            "1\n",
            "2\n",
            "3\n",
            "Numbers from 4 to 6 using a while loop:\n",
            "4\n",
            "5\n",
            "6\n"
          ]
        }
      ],
      "source": [
        "# Python First example for the basic concepts revision.\n",
        "\n",
        "# Variables: Storing information in variables\n",
        "name = \"Alice\"  # String variable\n",
        "age = 28  # Integer variable\n",
        "height = 5.7  # Float variable\n",
        "\n",
        "# Keywords: Using if, else, and for (Conditional statements, loops)\n",
        "# Conditional Statement: Check if the person is an adult or not\n",
        "if age >= 18:\n",
        "    print (\"Hello, \" + name + \"! You are an adult.\")\n",
        "else:\n",
        "    print (\"Hello, \" + name + \"! You are a minor.\")\n",
        "\n",
        "# Taking User Input\n",
        "# raw_input() is used in Python 2 to take input (in Python 3, use input())\n",
        "user_name = input(\"Enter your name: \")  # String input\n",
        "user_age = int(input(\"Enter your age: \"))  # Integer input\n",
        "\n",
        "# Multiple Inputs from Users\n",
        "# Taking multiple inputs at once, separated by spaces\n",
        "inputs = input(\"Enter two numbers separated by space: \").split()\n",
        "num1 = int(inputs[0])  # First number\n",
        "num2 = int(inputs[1])  # Second number\n",
        "\n",
        "# Python Operators: Perform basic arithmetic operations\n",
        "sum_result = num1 + num2  # Addition\n",
        "product_result = num1 * num2  # Multiplication\n",
        "difference_result = num1 - num2  # Subtraction\n",
        "division_result = float(num1) / num2  # Division (result as float)\n",
        "\n",
        "# Output Formatting: Display results in a formatted way\n",
        "print (\"Sum of\", num1, \"and\", num2, \"is:\", sum_result)\n",
        "print (\"Product of\", num1, \"and\", num2, \"is:\", product_result)\n",
        "print (\"Difference between\", num1, \"and\", num2, \"is:\", difference_result)\n",
        "print (\"Division of\", num1, \"by\", num2, \"is: %.2f\" % division_result)\n",
        "\n",
        "# Python Loops: Using a for loop to print numbers from 1 to 3\n",
        "print (\"Numbers from 1 to 3 using a for loop:\")\n",
        "for i in range(1, 4):\n",
        "    print (i) # Indentation required for the loop's body\n",
        "\n",
        "# Python Loops: Using a while loop to print numbers from 4 to 6\n",
        "print (\"Numbers from 4 to 6 using a while loop:\")\n",
        "i = 4\n",
        "while i <= 6:\n",
        "    print (i)\n",
        "    i += 1  # Increment value of i\n"
      ]
    },
    {
      "cell_type": "markdown",
      "source": [
        "Explanation:\n",
        "\n",
        "1.   Comments: The lines starting with # are comments and describe the purpose of the code.\n",
        "2.   Variables: name, age, and height store data in different types (string, integer, float).\n",
        "1.  Keywords: if, else, for, and while are Python keywords that control logic and loops.\n",
        "1.   Indentation: Indentation is crucial in Python to define blocks of code for loops and conditionals.\n",
        "2.   Print Output: The print statement is used to display the results.\n",
        "1.   Output Formatting: The % operator is used to format the division result to two decimal places.\n",
        "2.   Taking User Input: raw_input() is used in Python 2 for getting input, and split() is used to take multiple inputs.\n",
        "1.   Multiple Inputs: We take two numbers as space-separated input and convert them to integers.\n",
        "2.   Python Operators: Basic arithmetic operations (+, -, *, /) are demonstrated.\n",
        "1.   Conditional Statement: The program uses if and else to check if the user is an adult or minor.\n",
        "2.   Loops: for and while loops are used to iterate over a sequence of numbers."
      ],
      "metadata": {
        "id": "c4KgL3SJhi5e"
      }
    },
    {
      "cell_type": "code",
      "source": [
        "# This is another example that demonstrates different Python concepts.\n",
        "\n",
        "# Variables: Assign values to different variables\n",
        "student_name = \"Hari\"  # String for the student's name\n",
        "math_score = 96  # Integer for math score\n",
        "science_score = 90  # Integer for science score\n",
        "english_score = 78  # Integer for English score\n",
        "\n",
        "# Calculate the average score\n",
        "average_score = (math_score + science_score + english_score) / 3.0  # Float average\n",
        "\n",
        "# Conditional Statement: Determine grade based on average score\n",
        "if average_score >= 90:\n",
        "    grade = \"A\"\n",
        "elif average_score >= 80:\n",
        "    grade = \"B\"\n",
        "elif average_score >= 70:\n",
        "    grade = \"C\"\n",
        "else:\n",
        "    grade = \"F\"\n",
        "\n",
        "# Output Formatting: Display the results in a well-formatted way\n",
        "print (\"Student Name:\", student_name)\n",
        "print (\"Math Score:\", math_score)\n",
        "print (\"Science Score:\", science_score)\n",
        "print (\"English Score:\", english_score)\n",
        "print (\"Average Score: %.2f\" % average_score)  # Formatting average to two decimal places\n",
        "print (\"Grade:\", grade)\n",
        "\n",
        "# Taking User Input: Ask for scores of a new student\n",
        "user_name = input(\"Enter your name: \")\n",
        "user_math_score = int(input(\"Enter your math score: \"))\n",
        "user_science_score = int(input(\"Enter your science score: \"))\n",
        "user_english_score = int(input(\"Enter your English score: \"))\n",
        "\n",
        "# Calculate the average score for the new student\n",
        "user_average_score = (user_math_score + user_science_score + user_english_score) / 3.0\n",
        "\n",
        "# Determine the grade based on the new student's average score\n",
        "if user_average_score >= 90:\n",
        "    user_grade = \"A\"\n",
        "elif user_average_score >= 80:\n",
        "    user_grade = \"B\"\n",
        "elif user_average_score >= 70:\n",
        "    user_grade = \"C\"\n",
        "else:\n",
        "    user_grade = \"F\"\n",
        "\n",
        "# Print output for the new student\n",
        "print (\"\\nStudent Name:\", user_name)\n",
        "print (\"Math Score:\", user_math_score)\n",
        "print (\"Science Score:\", user_science_score)\n",
        "print (\"English Score:\", user_english_score)\n",
        "print (\"Average Score: %.2f\" % user_average_score)\n",
        "print (\"Grade:\", user_grade)\n"
      ],
      "metadata": {
        "colab": {
          "base_uri": "https://localhost:8080/"
        },
        "id": "Lr32AOtqja6j",
        "outputId": "7efc257b-2549-4953-d3e8-ca4dafcad22c"
      },
      "execution_count": 9,
      "outputs": [
        {
          "output_type": "stream",
          "name": "stdout",
          "text": [
            "Student Name: Hari\n",
            "Math Score: 96\n",
            "Science Score: 90\n",
            "English Score: 78\n",
            "Average Score: 88.00\n",
            "Grade: B\n",
            "Enter your name: Ram Singh\n",
            "Enter your math score: 87\n",
            "Enter your science score: 90\n",
            "Enter your English score: 76\n",
            "\n",
            "Student Name: Ram Singh\n",
            "Math Score: 87\n",
            "Science Score: 90\n",
            "English Score: 76\n",
            "Average Score: 84.33\n",
            "Grade: B\n"
          ]
        }
      ]
    },
    {
      "cell_type": "markdown",
      "source": [
        "\n",
        "1.   Comments: The comments describe the purpose of the code.\n",
        "2.   Variables: student_name, math_score, science_score, english_score, and average_score are variables holding different data types.\n",
        "1.   Keywords: The if, elif, else, and input() are keywords used for logic and input handling.\n",
        "2.   Indentation: Indentation is used to structure blocks of code under the conditional statements and loops.\n",
        "1.   Print Output: print is used to display various information such as scores and grades.\n",
        "2.   Output Formatting: The %.2f format specifier is used to round the average score to two decimal places.\n",
        "1.   Taking User Input: input() is used to take input for a new student's scores.\n",
        "2.   Multiple Inputs: Multiple inputs are taken from the user to gather their scores.\n",
        "1.   Python Operators: Arithmetic operators (+, /) are used to compute the average score.\n",
        "2.   Conditional Statement: The program checks the student's average score to assign a grade.\n",
        "1.   Loops: This example doesn't use loops, but it could be expanded to loop through multiple students if needed."
      ],
      "metadata": {
        "id": "6OdVAA3Ulf66"
      }
    },
    {
      "cell_type": "code",
      "source": [
        "# Simple Banking System Example\n",
        "\n",
        "# Step 1: Initialize the system and greet the user\n",
        "print(\"Welcome to the Simple Banking System\")\n",
        "\n",
        "# Step 2: Get user input for basic details\n",
        "name = input(\"Please enter your name: \")  # Taking user input for name\n",
        "account_balance = float(input(\"Enter your current account balance: $\"))  # Taking account balance\n",
        "interest_rate = 0.05  # Fixed interest rate (5%)\n",
        "interest_calculation_period = 12  # In months\n",
        "\n",
        "# Step 3: Print out initial information\n",
        "print(\"\\nHello\", name + \"!\")\n",
        "print(\"Your current account balance is: $\", account_balance)\n",
        "\n",
        "# Step 4: Ask user if they want to calculate interest\n",
        "calculate_interest = input(\"Would you like to calculate interest for the next 12 months? (yes/no): \")\n",
        "\n",
        "# Step 5: If the user says 'yes', calculate and display interest\n",
        "if calculate_interest.lower() == \"yes\":\n",
        "    # Calculate interest using a simple interest formula\n",
        "    interest_earned = account_balance * interest_rate * interest_calculation_period\n",
        "    new_balance = account_balance + interest_earned\n",
        "\n",
        "    # Output the results\n",
        "    print(\"\\nInterest earned over the next 12 months is: $\", round(interest_earned, 2))\n",
        "    print(\"Your new account balance after 12 months will be: $\", round(new_balance, 2))\n",
        "else:\n",
        "    print(\"Okay, no calculations will be made.\")\n",
        "\n",
        "# Step 6: Offer user an option to exit\n",
        "exit_system = input(\"\\nDo you want to exit the system? (yes/no): \")\n",
        "if exit_system.lower() == \"yes\":\n",
        "    print(\"Thank you for using the Simple Banking System. Goodbye!\")\n",
        "else:\n",
        "    print(\"You can perform other operations now.\")\n",
        "\n"
      ],
      "metadata": {
        "colab": {
          "base_uri": "https://localhost:8080/"
        },
        "id": "2r0wyggzqopx",
        "outputId": "9cc37676-3b83-4cda-cea4-9e1751596ac7"
      },
      "execution_count": 10,
      "outputs": [
        {
          "output_type": "stream",
          "name": "stdout",
          "text": [
            "Welcome to the Simple Banking System\n",
            "Please enter your name: Peeyush Pareek\n",
            "Enter your current account balance: $12\n",
            "\n",
            "Hello Peeyush Pareek!\n",
            "Your current account balance is: $ 12.0\n",
            "Would you like to calculate interest for the next 12 months? (yes/no): yes\n",
            "\n",
            "Interest earned over the next 12 months is: $ 7.2\n",
            "Your new account balance after 12 months will be: $ 19.2\n",
            "\n",
            "Do you want to exit the system? (yes/no): no\n",
            "You can perform other operations now.\n"
          ]
        }
      ]
    },
    {
      "cell_type": "code",
      "source": [
        "# Simple Banking System with List and Dictionary\n",
        "\n",
        "# Step 1: Initialize the system and greet the user\n",
        "print(\"Welcome to the Simple Banking System\")\n",
        "\n",
        "# Step 2: Initialize a list of account balances for different users\n",
        "users = [\"Alice\", \"Peeyush\", \"Charlie\", \"Diana\"]\n",
        "balances = [1000.50, 5000.75, 1200.30, 3500.00]  # List of balances corresponding to each user\n",
        "\n",
        "# Create a dictionary to store user's account balance by their name\n",
        "account_info = {users[i]: balances[i] for i in range(len(users))}\n",
        "\n",
        "# Step 3: Ask for the user's name\n",
        "user_name = input(\"Enter your name: \")\n",
        "\n",
        "# Step 4: Check if the user exists\n",
        "if user_name in account_info:\n",
        "    print(f\"Hello, {user_name}!\")\n",
        "    current_balance = account_info[user_name]\n",
        "    print(f\"Your current account balance is: ${current_balance:.2f}\")\n",
        "\n",
        "    # Step 5: Ask if they want to calculate interest\n",
        "    calculate_interest = input(\"Would you like to calculate interest for the next 12 months? (yes/no): \")\n",
        "\n",
        "    if calculate_interest.lower() == \"yes\":\n",
        "        interest_rate = 0.05  # Fixed interest rate (5%)\n",
        "        interest_calculation_period = 12  # 12 months\n",
        "        interest_earned = current_balance * interest_rate * interest_calculation_period\n",
        "        new_balance = current_balance + interest_earned\n",
        "\n",
        "        print(f\"\\nInterest earned over the next 12 months is: ${interest_earned:.2f}\")\n",
        "        print(f\"Your new account balance after 12 months will be: ${new_balance:.2f}\")\n",
        "    else:\n",
        "        print(\"Okay, no calculations will be made.\")\n",
        "else:\n",
        "    print(f\"Sorry, {user_name} does not have an account in our system.\")\n"
      ],
      "metadata": {
        "colab": {
          "base_uri": "https://localhost:8080/"
        },
        "id": "dVrIFq2bsH8S",
        "outputId": "698162f5-71cf-44fc-f560-198e109a5d40"
      },
      "execution_count": 14,
      "outputs": [
        {
          "output_type": "stream",
          "name": "stdout",
          "text": [
            "Welcome to the Simple Banking System\n",
            "Enter your name: Peeyush\n",
            "Hello, Peeyush!\n",
            "Your current account balance is: $5000.75\n",
            "Would you like to calculate interest for the next 12 months? (yes/no): yes\n",
            "\n",
            "Interest earned over the next 12 months is: $3000.45\n",
            "Your new account balance after 12 months will be: $8001.20\n"
          ]
        }
      ]
    },
    {
      "cell_type": "code",
      "source": [
        "# Student Grade Classification\n",
        "\n",
        "# Step 1: Greeting and instructions\n",
        "print(\"Welcome to the Student Grade Classification System!\")\n",
        "print(\"Please enter the marks for the following subjects:\")\n",
        "\n",
        "# Step 2: Taking multiple inputs from user\n",
        "math_marks = float(input(\"Math marks: \"))\n",
        "science_marks = float(input(\"Science marks: \"))\n",
        "english_marks = float(input(\"English marks: \"))\n",
        "history_marks = float(input(\"History marks: \"))\n",
        "\n",
        "# Step 3: Calculate the total marks and average\n",
        "total_marks = math_marks + science_marks + english_marks + history_marks\n",
        "average_marks = total_marks / 4\n",
        "\n",
        "# Step 4: Print out the total and average marks\n",
        "print(\"\\nTotal Marks:\", total_marks)\n",
        "print(\"Average Marks:\", average_marks)\n",
        "\n",
        "# Step 5: Classify the student based on average marks\n",
        "if average_marks >= 90:\n",
        "    grade = \"A+\"\n",
        "    status = \"Excellent\"\n",
        "elif average_marks >= 80:\n",
        "    grade = \"A\"\n",
        "    status = \"Very Good\"\n",
        "elif average_marks >= 70:\n",
        "    grade = \"B\"\n",
        "    status = \"Good\"\n",
        "elif average_marks >= 60:\n",
        "    grade = \"C\"\n",
        "    status = \"Average\"\n",
        "else:\n",
        "    grade = \"F\"\n",
        "    status = \"Fail\"\n",
        "\n",
        "# Step 6: Output the classification\n",
        "print(\"\\nYour grade is:\", grade)\n",
        "print(\"Performance Status:\", status)\n",
        "\n",
        "# Step 7: Additional message based on grade\n",
        "if grade == \"F\":\n",
        "    print(\"You need to improve! Please work hard and try again.\")\n",
        "else:\n",
        "    print(\"Well done! Keep up the great work.\")\n"
      ],
      "metadata": {
        "colab": {
          "base_uri": "https://localhost:8080/"
        },
        "id": "NRfUyAOFrB6W",
        "outputId": "870ba3b4-4ab0-45ca-e181-f0d595ad0253"
      },
      "execution_count": 12,
      "outputs": [
        {
          "output_type": "stream",
          "name": "stdout",
          "text": [
            "Welcome to the Student Grade Classification System!\n",
            "Please enter the marks for the following subjects:\n",
            "Math marks: 98\n",
            "Science marks: 99\n",
            "English marks: 65\n",
            "History marks: 76\n",
            "\n",
            "Total Marks: 338.0\n",
            "Average Marks: 84.5\n",
            "\n",
            "Your grade is: A\n",
            "Performance Status: Very Good\n",
            "Well done! Keep up the great work.\n"
          ]
        }
      ]
    },
    {
      "cell_type": "code",
      "source": [
        "# Student Grade Classification with List, Dictionary, and Tuple\n",
        "\n",
        "# Step 1: Greeting and instructions\n",
        "print(\"Welcome to the Student Grade Classification System!\")\n",
        "print(\"Please enter the marks for the following subjects:\")\n",
        "\n",
        "# Step 2: Use a tuple to store subject names\n",
        "subjects = (\"Math\", \"Science\", \"English\", \"History\")\n",
        "\n",
        "# Step 3: Initialize an empty list to store marks\n",
        "marks = []\n",
        "\n",
        "# Taking multiple inputs for each subject using a loop\n",
        "for subject in subjects:\n",
        "    mark = float(input(f\"Enter marks for {subject}: \"))\n",
        "    marks.append(mark)  # Append each mark to the list\n",
        "\n",
        "# Step 4: Calculate total and average marks\n",
        "total_marks = sum(marks)  # sum() is used to get the total\n",
        "average_marks = total_marks / len(marks)  # len(marks) gives the number of subjects\n",
        "\n",
        "# Step 5: Print out the total and average marks\n",
        "print(\"\\nTotal Marks:\", total_marks)\n",
        "print(\"Average Marks:\", average_marks)\n",
        "\n",
        "# Step 6: Use a dictionary to classify the grade based on average marks\n",
        "grade_classification = {\n",
        "    \"A+\": (90, float('inf')),  # Grade A+ for average marks >= 90\n",
        "    \"A\": (80, 89.99),\n",
        "    \"B\": (70, 79.99),\n",
        "    \"C\": (60, 69.99),\n",
        "    \"F\": (0, 59.99)\n",
        "}\n",
        "\n",
        "# Step 7: Classify the student based on average marks using the dictionary\n",
        "for grade, (lower_bound, upper_bound) in grade_classification.items():\n",
        "    if lower_bound <= average_marks <= upper_bound:\n",
        "        student_grade = grade\n",
        "        break\n",
        "\n",
        "# Step 8: Output the classification\n",
        "print(f\"\\nYour grade is: {student_grade}\")\n",
        "if student_grade == \"F\":\n",
        "    print(\"You need to improve! Please work hard and try again.\")\n",
        "else:\n",
        "    print(\"Well done! Keep up the great work.\")\n",
        "\n",
        "# Step 9: Additional information about subjects and marks using a tuple\n",
        "print(\"\\nSubject-wise marks:\")\n",
        "for subject, mark in zip(subjects, marks):\n",
        "    print(f\"{subject}: {mark}\")\n"
      ],
      "metadata": {
        "colab": {
          "base_uri": "https://localhost:8080/"
        },
        "id": "kbOzRQ_osc3G",
        "outputId": "f9b8e120-511a-45cf-a054-305f22c3f30c"
      },
      "execution_count": 15,
      "outputs": [
        {
          "output_type": "stream",
          "name": "stdout",
          "text": [
            "Welcome to the Student Grade Classification System!\n",
            "Please enter the marks for the following subjects:\n",
            "Enter marks for Math: 90\n",
            "Enter marks for Science: 87\n",
            "Enter marks for English: 76\n",
            "Enter marks for History: 78\n",
            "\n",
            "Total Marks: 331.0\n",
            "Average Marks: 82.75\n",
            "\n",
            "Your grade is: A\n",
            "Well done! Keep up the great work.\n",
            "\n",
            "Subject-wise marks:\n",
            "Math: 90.0\n",
            "Science: 87.0\n",
            "English: 76.0\n",
            "History: 78.0\n"
          ]
        }
      ]
    }
  ]
}