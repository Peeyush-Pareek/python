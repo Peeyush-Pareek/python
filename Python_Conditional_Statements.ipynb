{
  "nbformat": 4,
  "nbformat_minor": 0,
  "metadata": {
    "colab": {
      "provenance": [],
      "authorship_tag": "ABX9TyPTmE4XY0Ov+hi6luj0SqrW",
      "include_colab_link": true
    },
    "kernelspec": {
      "name": "python3",
      "display_name": "Python 3"
    },
    "language_info": {
      "name": "python"
    }
  },
  "cells": [
    {
      "cell_type": "markdown",
      "metadata": {
        "id": "view-in-github",
        "colab_type": "text"
      },
      "source": [
        "<a href=\"https://colab.research.google.com/github/Peeyush-Pareek/python/blob/main/Python_Conditional_Statements.ipynb\" target=\"_parent\"><img src=\"https://colab.research.google.com/assets/colab-badge.svg\" alt=\"Open In Colab\"/></a>"
      ]
    },
    {
      "cell_type": "code",
      "execution_count": 2,
      "metadata": {
        "colab": {
          "base_uri": "https://localhost:8080/"
        },
        "id": "5snAIag220Y9",
        "outputId": "fa544b05-7cdc-41cb-81f7-22129c850020"
      },
      "outputs": [
        {
          "output_type": "stream",
          "name": "stdout",
          "text": [
            "Enter a number: 71\n",
            "71 is odd.\n"
          ]
        }
      ],
      "source": [
        "# Check if a number is even or odd\n",
        "num = int(input(\"Enter a number: \"))\n",
        "\n",
        "if num % 2 == 0:\n",
        "    print(f\"{num} is even.\")\n",
        "else:\n",
        "    print(f\"{num} is odd.\")\n"
      ]
    },
    {
      "cell_type": "code",
      "source": [
        "# Prime number check\n",
        "num = int(input(\"Enter a number: \"))\n",
        "\n",
        "if num <= 1:\n",
        "    print(f\"{num} is not a prime number.\")\n",
        "else:\n",
        "    is_prime = True\n",
        "    for i in range(2, int(num**0.5) + 1):\n",
        "        if num % i == 0:\n",
        "            is_prime = False\n",
        "            break\n",
        "    if is_prime:\n",
        "        print(f\"{num} is a prime number.\")\n",
        "    else:\n",
        "        print(f\"{num} is not a prime number.\")\n"
      ],
      "metadata": {
        "colab": {
          "base_uri": "https://localhost:8080/"
        },
        "id": "CaOtOqqG3U23",
        "outputId": "7b3fa6bb-4f12-49ea-961d-3fafa52d578f"
      },
      "execution_count": 6,
      "outputs": [
        {
          "output_type": "stream",
          "name": "stdout",
          "text": [
            "Enter a number: 7\n",
            "7 is a prime number.\n"
          ]
        }
      ]
    },
    {
      "cell_type": "code",
      "source": [
        "# Solve a quadratic equation\n",
        "import cmath  # To handle complex numbers\n",
        "\n",
        "a = float(input(\"Enter a: \"))\n",
        "b = float(input(\"Enter b: \"))\n",
        "c = float(input(\"Enter c: \"))\n",
        "\n",
        "# Calculate discriminant\n",
        "discriminant = b**2 - 4*a*c\n",
        "\n",
        "# Check the nature of the roots\n",
        "if discriminant > 0:\n",
        "    root1 = (-b + cmath.sqrt(discriminant)) / (2 * a)\n",
        "    root2 = (-b - cmath.sqrt(discriminant)) / (2 * a)\n",
        "    print(f\"The roots are real and distinct: {root1}, {root2}\")\n",
        "elif discriminant == 0:\n",
        "    root = -b / (2 * a)\n",
        "    print(f\"The root is real and repeated: {root}\")\n",
        "else:\n",
        "    root1 = (-b + cmath.sqrt(discriminant)) / (2 * a)\n",
        "    root2 = (-b - cmath.sqrt(discriminant)) / (2 * a)\n",
        "    print(f\"The roots are complex: {root1}, {root2}\")\n"
      ],
      "metadata": {
        "colab": {
          "base_uri": "https://localhost:8080/"
        },
        "id": "P1iQR64_4DBJ",
        "outputId": "715442ab-bca0-4efb-eb46-bd8a62239173"
      },
      "execution_count": null,
      "outputs": [
        {
          "name": "stdout",
          "output_type": "stream",
          "text": [
            "Enter a: 12\n"
          ]
        }
      ]
    },
    {
      "cell_type": "code",
      "source": [
        "# Solve a quadratic equation\n",
        "import cmath  # To handle complex numbers\n",
        "\n",
        "a = float(input(\"Enter a: \"))\n",
        "b = float(input(\"Enter b: \"))\n",
        "c = float(input(\"Enter c: \"))\n",
        "\n",
        "# Calculate discriminant\n",
        "discriminant = b**2 - 4*a*c\n",
        "\n",
        "# Check the nature of the roots\n",
        "if discriminant > 0:\n",
        "    root1 = (-b + cmath.sqrt(discriminant)) / (2 * a)\n",
        "    root2 = (-b - cmath.sqrt(discriminant)) / (2 * a)\n",
        "    print(f\"The roots are real and distinct: {root1}, {root2}\")\n",
        "elif discriminant == 0:\n",
        "    root = -b / (2 * a)\n",
        "    print(f\"The root is real and repeated: {root}\")\n",
        "else:\n",
        "    root1 = (-b + cmath.sqrt(discriminant)) / (2 * a)\n",
        "    root2 = (-b - cmath.sqrt(discriminant)) / (2 * a)\n",
        "    print(f\"The roots are complex: {root1}, {root2}\")\n"
      ],
      "metadata": {
        "colab": {
          "base_uri": "https://localhost:8080/"
        },
        "id": "HcM7ttr0O1z4",
        "outputId": "7d708b9c-ca87-4010-89b9-a95c7b7cab5e"
      },
      "execution_count": 1,
      "outputs": [
        {
          "output_type": "stream",
          "name": "stdout",
          "text": [
            "Enter a: 12\n",
            "Enter b: 2\n",
            "Enter c: 3\n",
            "The roots are complex: (-0.08333333333333333+0.4930066485916347j), (-0.08333333333333333-0.4930066485916347j)\n"
          ]
        }
      ]
    },
    {
      "cell_type": "code",
      "source": [
        "# Sum of even numbers in a range\n",
        "n = int(input(\"Enter the range (1 to n): \"))\n",
        "sum_even = 0\n",
        "\n",
        "for i in range(1, n+1):\n",
        "    if i % 2 == 0:\n",
        "        sum_even += i\n",
        "\n",
        "print(f\"The sum of even numbers from 1 to {n} is: {sum_even}\")\n"
      ],
      "metadata": {
        "colab": {
          "base_uri": "https://localhost:8080/"
        },
        "id": "yJiUQTQmQMzu",
        "outputId": "54a0a916-334a-4997-9b4b-4894d5b8435d"
      },
      "execution_count": 2,
      "outputs": [
        {
          "output_type": "stream",
          "name": "stdout",
          "text": [
            "Enter the range (1 to n): 12\n",
            "The sum of even numbers from 1 to 12 is: 42\n"
          ]
        }
      ]
    },
    {
      "cell_type": "code",
      "source": [
        "# Generate Fibonacci Sequence\n",
        "n = int(input(\"Enter the number of terms: \"))\n",
        "a, b = 0, 1\n",
        "\n",
        "print(\"Fibonacci Sequence:\")\n",
        "for _ in range(n):\n",
        "    print(a, end=\" \")\n",
        "    a, b = b, a + b\n"
      ],
      "metadata": {
        "colab": {
          "base_uri": "https://localhost:8080/"
        },
        "id": "Z-HlupDxRfh7",
        "outputId": "77add148-4f92-415f-ded1-10fde4b8c8c8"
      },
      "execution_count": 3,
      "outputs": [
        {
          "output_type": "stream",
          "name": "stdout",
          "text": [
            "Enter the number of terms: 15\n",
            "Fibonacci Sequence:\n",
            "0 1 1 2 3 5 8 13 21 34 55 89 144 233 377 "
          ]
        }
      ]
    },
    {
      "cell_type": "code",
      "source": [
        "# Approximate Pi using Leibniz formula\n",
        "n = int(input(\"Enter the number of terms: \"))\n",
        "approx_pi = 0\n",
        "\n",
        "for i in range(n):\n",
        "    term = ((-1)**i) / (2 * i + 1)\n",
        "    approx_pi += term\n",
        "\n",
        "approx_pi *= 4\n",
        "print(f\"Approximated value of Pi: {approx_pi}\")\n"
      ],
      "metadata": {
        "colab": {
          "base_uri": "https://localhost:8080/"
        },
        "id": "Dv3wMVJuRsJV",
        "outputId": "637dc217-37b8-4b70-a92f-a2daae7266cb"
      },
      "execution_count": 4,
      "outputs": [
        {
          "output_type": "stream",
          "name": "stdout",
          "text": [
            "Enter the number of terms: 15\n",
            "Approximated value of Pi: 3.208185652261944\n"
          ]
        }
      ]
    },
    {
      "cell_type": "code",
      "source": [
        "# Function to calculate factorial\n",
        "def factorial(n):\n",
        "    result = 1\n",
        "    for i in range(1, n + 1):\n",
        "        result *= i\n",
        "    return result\n",
        "\n",
        "# Input and function call\n",
        "num = int(input(\"Enter a number to find its factorial: \"))\n",
        "print(f\"The factorial of {num} is: {factorial(num)}\")\n"
      ],
      "metadata": {
        "colab": {
          "base_uri": "https://localhost:8080/"
        },
        "id": "pl45cCVcR4mB",
        "outputId": "48ae2633-f229-44d6-da3e-2743d6e7bdd7"
      },
      "execution_count": 5,
      "outputs": [
        {
          "output_type": "stream",
          "name": "stdout",
          "text": [
            "Enter a number to find its factorial: 12\n",
            "The factorial of 12 is: 479001600\n"
          ]
        }
      ]
    },
    {
      "cell_type": "code",
      "source": [
        "# Function to check if a number is prime\n",
        "def is_prime(num):\n",
        "    if num <= 1:\n",
        "        return False\n",
        "    for i in range(2, int(num**0.5) + 1):\n",
        "        if num % i == 0:\n",
        "            return False\n",
        "    return True\n",
        "\n",
        "# Input and function call\n",
        "num = int(input(\"Enter a number to check if it's prime: \"))\n",
        "if is_prime(num):\n",
        "    print(f\"{num} is a prime number.\")\n",
        "else:\n",
        "    print(f\"{num} is not a prime number.\")\n"
      ],
      "metadata": {
        "colab": {
          "base_uri": "https://localhost:8080/"
        },
        "id": "AaR-xXhWSGFG",
        "outputId": "ef7a9ceb-9991-4ff9-968c-0ae3b35ebdc5"
      },
      "execution_count": 6,
      "outputs": [
        {
          "output_type": "stream",
          "name": "stdout",
          "text": [
            "Enter a number to check if it's prime: 71\n",
            "71 is a prime number.\n"
          ]
        }
      ]
    },
    {
      "cell_type": "code",
      "source": [
        "# Function to calculate the area of a circle\n",
        "import math\n",
        "\n",
        "def area_of_circle(radius):\n",
        "    return math.pi * radius ** 2\n",
        "\n",
        "# Input and function call\n",
        "radius = float(input(\"Enter the radius of the circle: \"))\n",
        "print(f\"The area of the circle with radius {radius} is: {area_of_circle(radius)}\")\n"
      ],
      "metadata": {
        "colab": {
          "base_uri": "https://localhost:8080/"
        },
        "id": "ybWy0EaFSTds",
        "outputId": "899f2e45-0b52-4895-c65c-4f2e600b61cd"
      },
      "execution_count": 7,
      "outputs": [
        {
          "output_type": "stream",
          "name": "stdout",
          "text": [
            "Enter the radius of the circle: 13\n",
            "The area of the circle with radius 13.0 is: 530.929158456675\n"
          ]
        }
      ]
    }
  ]
}