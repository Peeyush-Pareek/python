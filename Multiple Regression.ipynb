{
  "nbformat": 4,
  "nbformat_minor": 0,
  "metadata": {
    "colab": {
      "provenance": [],
      "authorship_tag": "ABX9TyPnbactP7ppiHg+YOFIT2ab",
      "include_colab_link": true
    },
    "kernelspec": {
      "name": "python3",
      "display_name": "Python 3"
    },
    "language_info": {
      "name": "python"
    }
  },
  "cells": [
    {
      "cell_type": "markdown",
      "metadata": {
        "id": "view-in-github",
        "colab_type": "text"
      },
      "source": [
        "<a href=\"https://colab.research.google.com/github/Peeyush-Pareek/python/blob/main/Multiple%20Regression.ipynb\" target=\"_parent\"><img src=\"https://colab.research.google.com/assets/colab-badge.svg\" alt=\"Open In Colab\"/></a>"
      ]
    },
    {
      "cell_type": "code",
      "execution_count": 1,
      "metadata": {
        "colab": {
          "base_uri": "https://localhost:8080/",
          "height": 402
        },
        "id": "5rTPM41yxagS",
        "outputId": "18ce8c69-e9c0-40b5-8b3f-44b1847ca316"
      },
      "outputs": [
        {
          "output_type": "error",
          "ename": "ImportError",
          "evalue": "cannot import name 'train_test_spilt' from 'sklearn.model_selection' (/usr/local/lib/python3.10/dist-packages/sklearn/model_selection/__init__.py)",
          "traceback": [
            "\u001b[0;31m---------------------------------------------------------------------------\u001b[0m",
            "\u001b[0;31mImportError\u001b[0m                               Traceback (most recent call last)",
            "\u001b[0;32m<ipython-input-1-6e83515d42fc>\u001b[0m in \u001b[0;36m<cell line: 4>\u001b[0;34m()\u001b[0m\n\u001b[1;32m      2\u001b[0m \u001b[0;32mimport\u001b[0m \u001b[0mnumpy\u001b[0m \u001b[0;32mas\u001b[0m \u001b[0mnp\u001b[0m\u001b[0;34m\u001b[0m\u001b[0;34m\u001b[0m\u001b[0m\n\u001b[1;32m      3\u001b[0m \u001b[0;32mimport\u001b[0m \u001b[0mstatsmodels\u001b[0m\u001b[0;34m.\u001b[0m\u001b[0mapi\u001b[0m \u001b[0;32mas\u001b[0m \u001b[0msm\u001b[0m\u001b[0;34m\u001b[0m\u001b[0;34m\u001b[0m\u001b[0m\n\u001b[0;32m----> 4\u001b[0;31m \u001b[0;32mfrom\u001b[0m \u001b[0msklearn\u001b[0m\u001b[0;34m.\u001b[0m\u001b[0mmodel_selection\u001b[0m \u001b[0;32mimport\u001b[0m \u001b[0mtrain_test_spilt\u001b[0m\u001b[0;34m\u001b[0m\u001b[0;34m\u001b[0m\u001b[0m\n\u001b[0m\u001b[1;32m      5\u001b[0m \u001b[0;34m\u001b[0m\u001b[0m\n\u001b[1;32m      6\u001b[0m \u001b[0;31m#Generate sample data\u001b[0m\u001b[0;34m\u001b[0m\u001b[0;34m\u001b[0m\u001b[0m\n",
            "\u001b[0;31mImportError\u001b[0m: cannot import name 'train_test_spilt' from 'sklearn.model_selection' (/usr/local/lib/python3.10/dist-packages/sklearn/model_selection/__init__.py)",
            "",
            "\u001b[0;31m---------------------------------------------------------------------------\u001b[0;32m\nNOTE: If your import is failing due to a missing package, you can\nmanually install dependencies using either !pip or !apt.\n\nTo view examples of installing some common dependencies, click the\n\"Open Examples\" button below.\n\u001b[0;31m---------------------------------------------------------------------------\u001b[0m\n"
          ],
          "errorDetails": {
            "actions": [
              {
                "action": "open_url",
                "actionText": "Open Examples",
                "url": "/notebooks/snippets/importing_libraries.ipynb"
              }
            ]
          }
        }
      ],
      "source": [
        "import pandas as pd\n",
        "import numpy as np\n",
        "import statsmodels.api as sm\n",
        "from sklearn.model_selection import train_test_spilt\n",
        "\n",
        "#Generate sample data\n",
        "np.random.seed(42)\n",
        "n_samples= 100\n",
        "X1= np.random.rand(n_samples)*10 # Independent variable 1\n",
        "X2= np.random.rand(n_samples)*20 # Independent variable 2\n",
        "\n",
        "y=5+2*X1+3*X2+np.random.randn(n_samples)*2 # Dependent variable\n",
        "\n",
        "# Create DataFrame\n",
        "data =pd.DtaFrame({'X1': X1,'X2': X2, 'y': y})\n",
        "\n",
        "try:\n",
        "  # Seperate features (X) and target (y)\n",
        "  X = data[['X1','X2']]\n",
        "  y= data['y']\n",
        "\n",
        "  # Add constant for intercept in statsmodels\n",
        "  X = sm.add_constant(X)\n",
        "\n",
        "  #Split the data into training and testing sets\n",
        "  X_train, X_test, y_train, y_test= train_test_split(X,y,test_size=0.2,random_state=42)\n",
        "\n",
        "  #Fit the model\n",
        "  model =sm.OLS(y_train,X_train).fit()\n",
        "\n",
        "  #Print model summary\n",
        "  print(model.summary())\n",
        "\n",
        "  # Predict on test data\n",
        "  predictions = model.predict(X_test)\n",
        "\n",
        "  #Display predictions\n",
        "  print(\"\\n Predictions:\\n\", predictions)\n",
        "\n",
        "except Exception as e:\n",
        "    print(\"An error occured:\", str(e))"
      ]
    }
  ]
}