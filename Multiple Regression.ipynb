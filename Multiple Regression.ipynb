{
  "nbformat": 4,
  "nbformat_minor": 0,
  "metadata": {
    "colab": {
      "provenance": [],
      "authorship_tag": "ABX9TyOdNW5q7mF75oSmGCZy0Ats",
      "include_colab_link": true
    },
    "kernelspec": {
      "name": "python3",
      "display_name": "Python 3"
    },
    "language_info": {
      "name": "python"
    }
  },
  "cells": [
    {
      "cell_type": "markdown",
      "metadata": {
        "id": "view-in-github",
        "colab_type": "text"
      },
      "source": [
        "<a href=\"https://colab.research.google.com/github/Peeyush-Pareek/python/blob/main/Multiple%20Regression.ipynb\" target=\"_parent\"><img src=\"https://colab.research.google.com/assets/colab-badge.svg\" alt=\"Open In Colab\"/></a>"
      ]
    },
    {
      "cell_type": "code",
      "execution_count": 2,
      "metadata": {
        "colab": {
          "base_uri": "https://localhost:8080/"
        },
        "id": "5rTPM41yxagS",
        "outputId": "acb4f631-ac44-48ea-e5cf-cce7100abf11"
      },
      "outputs": [
        {
          "output_type": "stream",
          "name": "stdout",
          "text": [
            "                            OLS Regression Results                            \n",
            "==============================================================================\n",
            "Dep. Variable:                      y   R-squared:                       0.988\n",
            "Model:                            OLS   Adj. R-squared:                  0.988\n",
            "Method:                 Least Squares   F-statistic:                     3156.\n",
            "Date:                Fri, 27 Dec 2024   Prob (F-statistic):           1.33e-74\n",
            "Time:                        19:01:08   Log-Likelihood:                -169.72\n",
            "No. Observations:                  80   AIC:                             345.4\n",
            "Df Residuals:                      77   BIC:                             352.6\n",
            "Df Model:                           2                                         \n",
            "Covariance Type:            nonrobust                                         \n",
            "==============================================================================\n",
            "                 coef    std err          t      P>|t|      [0.025      0.975]\n",
            "------------------------------------------------------------------------------\n",
            "const          4.5865      0.609      7.527      0.000       3.373       5.800\n",
            "X1             1.9500      0.079     24.641      0.000       1.792       2.108\n",
            "X2             3.0787      0.040     76.854      0.000       2.999       3.158\n",
            "==============================================================================\n",
            "Omnibus:                        8.319   Durbin-Watson:                   2.308\n",
            "Prob(Omnibus):                  0.016   Jarque-Bera (JB):                8.175\n",
            "Skew:                           0.618   Prob(JB):                       0.0168\n",
            "Kurtosis:                       3.962   Cond. No.                         32.9\n",
            "==============================================================================\n",
            "\n",
            "Notes:\n",
            "[1] Standard Errors assume that the covariance matrix of the errors is correctly specified.\n",
            "\n",
            "Predictions:\n",
            " 83    59.847504\n",
            "53    52.173422\n",
            "70    61.365906\n",
            "45    19.777019\n",
            "44    27.171604\n",
            "39    73.006356\n",
            "22    29.864205\n",
            "80    42.418008\n",
            "10    22.829170\n",
            "0     13.825295\n",
            "18    67.968200\n",
            "30    42.135477\n",
            "73    34.434378\n",
            "33    43.878259\n",
            "90    12.651350\n",
            "4     63.511699\n",
            "76    62.170361\n",
            "77    29.843366\n",
            "12    78.064710\n",
            "31    21.587886\n",
            "dtype: float64\n"
          ]
        }
      ],
      "source": [
        "import pandas as pd\n",
        "import numpy as np\n",
        "import statsmodels.api as sm\n",
        "from sklearn.model_selection import train_test_split\n",
        "\n",
        "# Generate sample data\n",
        "np.random.seed(42)\n",
        "n_samples = 100\n",
        "X1 = np.random.rand(n_samples) * 10  # Independent variable 1\n",
        "X2 = np.random.rand(n_samples) * 20  # Independent variable 2\n",
        "y = 5 + 2 * X1 + 3 * X2 + np.random.randn(n_samples) * 2  # Dependent variable\n",
        "\n",
        "# Create DataFrame\n",
        "data = pd.DataFrame({'X1': X1, 'X2': X2, 'y': y})\n",
        "\n",
        "try:\n",
        "    # Separate features (X) and target (y)\n",
        "    X = data[['X1', 'X2']]\n",
        "    y = data['y']\n",
        "\n",
        "    # Add constant for intercept in statsmodels\n",
        "    X = sm.add_constant(X)\n",
        "\n",
        "    # Split the data into training and testing sets\n",
        "    X_train, X_test, y_train, y_test = train_test_split(X, y, test_size=0.2, random_state=42)\n",
        "\n",
        "    # Fit the model\n",
        "    model = sm.OLS(y_train, X_train).fit()\n",
        "\n",
        "    # Print model summary\n",
        "    print(model.summary())\n",
        "\n",
        "    # Predict on test data\n",
        "    predictions = model.predict(X_test)\n",
        "\n",
        "    # Display predictions\n",
        "    print(\"\\nPredictions:\\n\", predictions)\n",
        "\n",
        "except Exception as e:\n",
        "    print(\"An error occurred:\", str(e))\n"
      ]
    }
  ]
}