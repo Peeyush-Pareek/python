{
  "nbformat": 4,
  "nbformat_minor": 0,
  "metadata": {
    "colab": {
      "provenance": [],
      "authorship_tag": "ABX9TyOeen22Al0E3pAlCoRnQUhN",
      "include_colab_link": true
    },
    "kernelspec": {
      "name": "python3",
      "display_name": "Python 3"
    },
    "language_info": {
      "name": "python"
    }
  },
  "cells": [
    {
      "cell_type": "markdown",
      "metadata": {
        "id": "view-in-github",
        "colab_type": "text"
      },
      "source": [
        "<a href=\"https://colab.research.google.com/github/Peeyush-Pareek/python/blob/main/functions.ipynb\" target=\"_parent\"><img src=\"https://colab.research.google.com/assets/colab-badge.svg\" alt=\"Open In Colab\"/></a>"
      ]
    },
    {
      "cell_type": "code",
      "execution_count": 3,
      "metadata": {
        "colab": {
          "base_uri": "https://localhost:8080/"
        },
        "id": "EVIWfRWsjCG0",
        "outputId": "ea9737da-d9f2-4cfc-d320-b5fc648bb605"
      },
      "outputs": [
        {
          "output_type": "stream",
          "name": "stdout",
          "text": [
            "Welcome to JSPM\n"
          ]
        }
      ],
      "source": [
        "# A simple Python function\n",
        "def fun():\n",
        "    print(\"Welcome to JSPM\")\n",
        "\n",
        "\n",
        "# Driver code to call a function\n",
        "fun()"
      ]
    },
    {
      "cell_type": "code",
      "source": [
        "def add(first: int, second: int) -> int:\n",
        "    \"\"\"Add two numbers\"\"\"\n",
        "    result = first + second\n",
        "\n",
        "    return result\n",
        "\n",
        "# Driver code\n",
        "first, second = 15, 25\n",
        "result = add(first, second)\n",
        "print(f\"The addition of {first} and {second} results {result}.\")"
      ],
      "metadata": {
        "colab": {
          "base_uri": "https://localhost:8080/"
        },
        "id": "MpVtPy6Ejq2j",
        "outputId": "75e7325f-6e34-4cd2-bdc4-bac78fc055d0"
      },
      "execution_count": 6,
      "outputs": [
        {
          "output_type": "stream",
          "name": "stdout",
          "text": [
            "The addition of 15 and 25 results 40.\n"
          ]
        }
      ]
    },
    {
      "cell_type": "code",
      "source": [
        "# some more functions\n",
        "def is_prime(n):\n",
        "    if n in [2, 3]:\n",
        "        return True\n",
        "    if (n == 1) or (n % 2 == 0):\n",
        "        return False\n",
        "    r = 3\n",
        "    while r * r <= n:\n",
        "        if n % r == 0:\n",
        "            return False\n",
        "        r += 2\n",
        "    return True\n",
        "print(is_prime(80), is_prime(89))"
      ],
      "metadata": {
        "colab": {
          "base_uri": "https://localhost:8080/"
        },
        "id": "9Jc-hzhKlA3Y",
        "outputId": "9337544c-ef3a-450f-e48c-d01cd55af19c"
      },
      "execution_count": 7,
      "outputs": [
        {
          "output_type": "stream",
          "name": "stdout",
          "text": [
            "False True\n"
          ]
        }
      ]
    }
  ]
}